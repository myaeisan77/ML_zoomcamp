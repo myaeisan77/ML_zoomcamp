{
 "cells": [
  {
   "cell_type": "code",
   "execution_count": 1,
   "id": "4aae60ac",
   "metadata": {
    "_cell_guid": "b1076dfc-b9ad-4769-8c92-a6c4dae69d19",
    "_uuid": "8f2839f25d086af736a60e9eeb907d3b93b6e0e5",
    "execution": {
     "iopub.execute_input": "2023-10-08T11:37:54.241336Z",
     "iopub.status.busy": "2023-10-08T11:37:54.240912Z",
     "iopub.status.idle": "2023-10-08T11:37:56.244826Z",
     "shell.execute_reply": "2023-10-08T11:37:56.243688Z"
    },
    "papermill": {
     "duration": 2.013155,
     "end_time": "2023-10-08T11:37:56.246994",
     "exception": false,
     "start_time": "2023-10-08T11:37:54.233839",
     "status": "completed"
    },
    "tags": []
   },
   "outputs": [
    {
     "name": "stderr",
     "output_type": "stream",
     "text": [
      "/opt/conda/lib/python3.10/site-packages/scipy/__init__.py:146: UserWarning: A NumPy version >=1.16.5 and <1.23.0 is required for this version of SciPy (detected version 1.23.5\n",
      "  warnings.warn(f\"A NumPy version >={np_minversion} and <{np_maxversion}\"\n"
     ]
    }
   ],
   "source": [
    "\n",
    "import pandas as pd\n",
    "import numpy as np\n",
    "\n",
    "import matplotlib.pyplot as plt\n",
    "import seaborn as sns\n",
    "\n",
    "# from sklearn.preprocessing import LabelEncoder\n",
    "from sklearn.model_selection import train_test_split\n",
    "\n",
    "from sklearn.metrics import roc_auc_score\n",
    "from sklearn.metrics import roc_curve\n",
    "\n",
    "from sklearn.feature_extraction import DictVectorizer\n",
    "from sklearn.linear_model import LogisticRegression\n",
    "from sklearn.model_selection import KFold\n",
    "\n",
    "%matplotlib inline\n",
    "     "
   ]
  },
  {
   "cell_type": "code",
   "execution_count": 2,
   "id": "e2d3feb2",
   "metadata": {
    "execution": {
     "iopub.execute_input": "2023-10-08T11:37:56.260543Z",
     "iopub.status.busy": "2023-10-08T11:37:56.259774Z",
     "iopub.status.idle": "2023-10-08T11:37:57.382815Z",
     "shell.execute_reply": "2023-10-08T11:37:57.381756Z"
    },
    "papermill": {
     "duration": 1.131685,
     "end_time": "2023-10-08T11:37:57.384813",
     "exception": false,
     "start_time": "2023-10-08T11:37:56.253128",
     "status": "completed"
    },
    "tags": []
   },
   "outputs": [
    {
     "name": "stdout",
     "output_type": "stream",
     "text": [
      "--2023-10-08 11:37:57--  https://raw.githubusercontent.com/alexeygrigorev/mlbookcamp-code/master/chapter-02-car-price/data.csv\r\n",
      "Resolving raw.githubusercontent.com (raw.githubusercontent.com)... 185.199.108.133, 185.199.109.133, 185.199.110.133, ...\r\n",
      "Connecting to raw.githubusercontent.com (raw.githubusercontent.com)|185.199.108.133|:443... connected.\r\n",
      "HTTP request sent, awaiting response... 200 OK\r\n",
      "Length: 1475504 (1.4M) [text/plain]\r\n",
      "Saving to: ‘data.csv’\r\n",
      "\r\n",
      "data.csv            100%[===================>]   1.41M  --.-KB/s    in 0.04s   \r\n",
      "\r\n",
      "2023-10-08 11:37:57 (37.0 MB/s) - ‘data.csv’ saved [1475504/1475504]\r\n",
      "\r\n"
     ]
    }
   ],
   "source": [
    "!wget https://raw.githubusercontent.com/alexeygrigorev/mlbookcamp-code/master/chapter-02-car-price/data.csv"
   ]
  },
  {
   "cell_type": "code",
   "execution_count": 3,
   "id": "bbaacc53",
   "metadata": {
    "execution": {
     "iopub.execute_input": "2023-10-08T11:37:57.397802Z",
     "iopub.status.busy": "2023-10-08T11:37:57.397521Z",
     "iopub.status.idle": "2023-10-08T11:37:57.433575Z",
     "shell.execute_reply": "2023-10-08T11:37:57.432755Z"
    },
    "papermill": {
     "duration": 0.044611,
     "end_time": "2023-10-08T11:37:57.435232",
     "exception": false,
     "start_time": "2023-10-08T11:37:57.390621",
     "status": "completed"
    },
    "tags": []
   },
   "outputs": [],
   "source": [
    "PATH = \"./data.csv\"\n",
    "select_cols = [\"Make\", \"Model\", \"Year\", \"Engine HP\", \"Engine Cylinders\", \"Transmission Type\", \"Vehicle Style\", \n",
    "               \"highway MPG\", \"city mpg\", \"MSRP\"]\n",
    "data = pd.read_csv(PATH, usecols=select_cols)"
   ]
  },
  {
   "cell_type": "code",
   "execution_count": 4,
   "id": "af0bac08",
   "metadata": {
    "execution": {
     "iopub.execute_input": "2023-10-08T11:37:57.447908Z",
     "iopub.status.busy": "2023-10-08T11:37:57.447665Z",
     "iopub.status.idle": "2023-10-08T11:37:57.452327Z",
     "shell.execute_reply": "2023-10-08T11:37:57.451527Z"
    },
    "papermill": {
     "duration": 0.012982,
     "end_time": "2023-10-08T11:37:57.454089",
     "exception": false,
     "start_time": "2023-10-08T11:37:57.441107",
     "status": "completed"
    },
    "tags": []
   },
   "outputs": [
    {
     "name": "stdout",
     "output_type": "stream",
     "text": [
      "(11914, 10)\n"
     ]
    }
   ],
   "source": [
    "print(data.shape)"
   ]
  },
  {
   "cell_type": "code",
   "execution_count": 5,
   "id": "3545c72c",
   "metadata": {
    "execution": {
     "iopub.execute_input": "2023-10-08T11:37:57.466206Z",
     "iopub.status.busy": "2023-10-08T11:37:57.465971Z",
     "iopub.status.idle": "2023-10-08T11:37:57.488466Z",
     "shell.execute_reply": "2023-10-08T11:37:57.487512Z"
    },
    "papermill": {
     "duration": 0.030576,
     "end_time": "2023-10-08T11:37:57.490247",
     "exception": false,
     "start_time": "2023-10-08T11:37:57.459671",
     "status": "completed"
    },
    "tags": []
   },
   "outputs": [
    {
     "data": {
      "text/html": [
       "<div>\n",
       "<style scoped>\n",
       "    .dataframe tbody tr th:only-of-type {\n",
       "        vertical-align: middle;\n",
       "    }\n",
       "\n",
       "    .dataframe tbody tr th {\n",
       "        vertical-align: top;\n",
       "    }\n",
       "\n",
       "    .dataframe thead th {\n",
       "        text-align: right;\n",
       "    }\n",
       "</style>\n",
       "<table border=\"1\" class=\"dataframe\">\n",
       "  <thead>\n",
       "    <tr style=\"text-align: right;\">\n",
       "      <th></th>\n",
       "      <th>Make</th>\n",
       "      <th>Model</th>\n",
       "      <th>Year</th>\n",
       "      <th>Engine HP</th>\n",
       "      <th>Engine Cylinders</th>\n",
       "      <th>Transmission Type</th>\n",
       "      <th>Vehicle Style</th>\n",
       "      <th>highway MPG</th>\n",
       "      <th>city mpg</th>\n",
       "      <th>MSRP</th>\n",
       "    </tr>\n",
       "  </thead>\n",
       "  <tbody>\n",
       "    <tr>\n",
       "      <th>0</th>\n",
       "      <td>BMW</td>\n",
       "      <td>1 Series M</td>\n",
       "      <td>2011</td>\n",
       "      <td>335.0</td>\n",
       "      <td>6.0</td>\n",
       "      <td>MANUAL</td>\n",
       "      <td>Coupe</td>\n",
       "      <td>26</td>\n",
       "      <td>19</td>\n",
       "      <td>46135</td>\n",
       "    </tr>\n",
       "    <tr>\n",
       "      <th>1</th>\n",
       "      <td>BMW</td>\n",
       "      <td>1 Series</td>\n",
       "      <td>2011</td>\n",
       "      <td>300.0</td>\n",
       "      <td>6.0</td>\n",
       "      <td>MANUAL</td>\n",
       "      <td>Convertible</td>\n",
       "      <td>28</td>\n",
       "      <td>19</td>\n",
       "      <td>40650</td>\n",
       "    </tr>\n",
       "    <tr>\n",
       "      <th>2</th>\n",
       "      <td>BMW</td>\n",
       "      <td>1 Series</td>\n",
       "      <td>2011</td>\n",
       "      <td>300.0</td>\n",
       "      <td>6.0</td>\n",
       "      <td>MANUAL</td>\n",
       "      <td>Coupe</td>\n",
       "      <td>28</td>\n",
       "      <td>20</td>\n",
       "      <td>36350</td>\n",
       "    </tr>\n",
       "    <tr>\n",
       "      <th>3</th>\n",
       "      <td>BMW</td>\n",
       "      <td>1 Series</td>\n",
       "      <td>2011</td>\n",
       "      <td>230.0</td>\n",
       "      <td>6.0</td>\n",
       "      <td>MANUAL</td>\n",
       "      <td>Coupe</td>\n",
       "      <td>28</td>\n",
       "      <td>18</td>\n",
       "      <td>29450</td>\n",
       "    </tr>\n",
       "    <tr>\n",
       "      <th>4</th>\n",
       "      <td>BMW</td>\n",
       "      <td>1 Series</td>\n",
       "      <td>2011</td>\n",
       "      <td>230.0</td>\n",
       "      <td>6.0</td>\n",
       "      <td>MANUAL</td>\n",
       "      <td>Convertible</td>\n",
       "      <td>28</td>\n",
       "      <td>18</td>\n",
       "      <td>34500</td>\n",
       "    </tr>\n",
       "    <tr>\n",
       "      <th>5</th>\n",
       "      <td>BMW</td>\n",
       "      <td>1 Series</td>\n",
       "      <td>2012</td>\n",
       "      <td>230.0</td>\n",
       "      <td>6.0</td>\n",
       "      <td>MANUAL</td>\n",
       "      <td>Coupe</td>\n",
       "      <td>28</td>\n",
       "      <td>18</td>\n",
       "      <td>31200</td>\n",
       "    </tr>\n",
       "    <tr>\n",
       "      <th>6</th>\n",
       "      <td>BMW</td>\n",
       "      <td>1 Series</td>\n",
       "      <td>2012</td>\n",
       "      <td>300.0</td>\n",
       "      <td>6.0</td>\n",
       "      <td>MANUAL</td>\n",
       "      <td>Convertible</td>\n",
       "      <td>26</td>\n",
       "      <td>17</td>\n",
       "      <td>44100</td>\n",
       "    </tr>\n",
       "    <tr>\n",
       "      <th>7</th>\n",
       "      <td>BMW</td>\n",
       "      <td>1 Series</td>\n",
       "      <td>2012</td>\n",
       "      <td>300.0</td>\n",
       "      <td>6.0</td>\n",
       "      <td>MANUAL</td>\n",
       "      <td>Coupe</td>\n",
       "      <td>28</td>\n",
       "      <td>20</td>\n",
       "      <td>39300</td>\n",
       "    </tr>\n",
       "    <tr>\n",
       "      <th>8</th>\n",
       "      <td>BMW</td>\n",
       "      <td>1 Series</td>\n",
       "      <td>2012</td>\n",
       "      <td>230.0</td>\n",
       "      <td>6.0</td>\n",
       "      <td>MANUAL</td>\n",
       "      <td>Convertible</td>\n",
       "      <td>28</td>\n",
       "      <td>18</td>\n",
       "      <td>36900</td>\n",
       "    </tr>\n",
       "    <tr>\n",
       "      <th>9</th>\n",
       "      <td>BMW</td>\n",
       "      <td>1 Series</td>\n",
       "      <td>2013</td>\n",
       "      <td>230.0</td>\n",
       "      <td>6.0</td>\n",
       "      <td>MANUAL</td>\n",
       "      <td>Convertible</td>\n",
       "      <td>27</td>\n",
       "      <td>18</td>\n",
       "      <td>37200</td>\n",
       "    </tr>\n",
       "  </tbody>\n",
       "</table>\n",
       "</div>"
      ],
      "text/plain": [
       "  Make       Model  Year  Engine HP  Engine Cylinders Transmission Type  \\\n",
       "0  BMW  1 Series M  2011      335.0               6.0            MANUAL   \n",
       "1  BMW    1 Series  2011      300.0               6.0            MANUAL   \n",
       "2  BMW    1 Series  2011      300.0               6.0            MANUAL   \n",
       "3  BMW    1 Series  2011      230.0               6.0            MANUAL   \n",
       "4  BMW    1 Series  2011      230.0               6.0            MANUAL   \n",
       "5  BMW    1 Series  2012      230.0               6.0            MANUAL   \n",
       "6  BMW    1 Series  2012      300.0               6.0            MANUAL   \n",
       "7  BMW    1 Series  2012      300.0               6.0            MANUAL   \n",
       "8  BMW    1 Series  2012      230.0               6.0            MANUAL   \n",
       "9  BMW    1 Series  2013      230.0               6.0            MANUAL   \n",
       "\n",
       "  Vehicle Style  highway MPG  city mpg   MSRP  \n",
       "0         Coupe           26        19  46135  \n",
       "1   Convertible           28        19  40650  \n",
       "2         Coupe           28        20  36350  \n",
       "3         Coupe           28        18  29450  \n",
       "4   Convertible           28        18  34500  \n",
       "5         Coupe           28        18  31200  \n",
       "6   Convertible           26        17  44100  \n",
       "7         Coupe           28        20  39300  \n",
       "8   Convertible           28        18  36900  \n",
       "9   Convertible           27        18  37200  "
      ]
     },
     "execution_count": 5,
     "metadata": {},
     "output_type": "execute_result"
    }
   ],
   "source": [
    "data.head(10)"
   ]
  },
  {
   "cell_type": "code",
   "execution_count": 6,
   "id": "0dec8f27",
   "metadata": {
    "execution": {
     "iopub.execute_input": "2023-10-08T11:37:57.503426Z",
     "iopub.status.busy": "2023-10-08T11:37:57.502634Z",
     "iopub.status.idle": "2023-10-08T11:37:57.508338Z",
     "shell.execute_reply": "2023-10-08T11:37:57.507488Z"
    },
    "papermill": {
     "duration": 0.014074,
     "end_time": "2023-10-08T11:37:57.510226",
     "exception": false,
     "start_time": "2023-10-08T11:37:57.496152",
     "status": "completed"
    },
    "tags": []
   },
   "outputs": [
    {
     "data": {
      "text/plain": [
       "Index(['Make', 'Model', 'Year', 'Engine HP', 'Engine Cylinders',\n",
       "       'Transmission Type', 'Vehicle Style', 'highway MPG', 'city mpg',\n",
       "       'MSRP'],\n",
       "      dtype='object')"
      ]
     },
     "execution_count": 6,
     "metadata": {},
     "output_type": "execute_result"
    }
   ],
   "source": [
    "data.columns"
   ]
  },
  {
   "cell_type": "code",
   "execution_count": 7,
   "id": "897d7953",
   "metadata": {
    "execution": {
     "iopub.execute_input": "2023-10-08T11:37:57.523659Z",
     "iopub.status.busy": "2023-10-08T11:37:57.522977Z",
     "iopub.status.idle": "2023-10-08T11:37:57.554416Z",
     "shell.execute_reply": "2023-10-08T11:37:57.553621Z"
    },
    "papermill": {
     "duration": 0.039799,
     "end_time": "2023-10-08T11:37:57.556078",
     "exception": false,
     "start_time": "2023-10-08T11:37:57.516279",
     "status": "completed"
    },
    "tags": []
   },
   "outputs": [],
   "source": [
    "data.columns = data.columns.str.lower().str.replace(' ', '_')\n",
    "\n",
    "string_columns = list(data.dtypes[data.dtypes == 'object'].index)\n",
    "\n",
    "for col in string_columns:\n",
    "    data[col] = data[col].str.lower().str.replace(' ', '_')"
   ]
  },
  {
   "cell_type": "code",
   "execution_count": 8,
   "id": "e05282e1",
   "metadata": {
    "execution": {
     "iopub.execute_input": "2023-10-08T11:37:57.568790Z",
     "iopub.status.busy": "2023-10-08T11:37:57.568566Z",
     "iopub.status.idle": "2023-10-08T11:37:57.580114Z",
     "shell.execute_reply": "2023-10-08T11:37:57.579211Z"
    },
    "papermill": {
     "duration": 0.019904,
     "end_time": "2023-10-08T11:37:57.581849",
     "exception": false,
     "start_time": "2023-10-08T11:37:57.561945",
     "status": "completed"
    },
    "tags": []
   },
   "outputs": [
    {
     "data": {
      "text/html": [
       "<div>\n",
       "<style scoped>\n",
       "    .dataframe tbody tr th:only-of-type {\n",
       "        vertical-align: middle;\n",
       "    }\n",
       "\n",
       "    .dataframe tbody tr th {\n",
       "        vertical-align: top;\n",
       "    }\n",
       "\n",
       "    .dataframe thead th {\n",
       "        text-align: right;\n",
       "    }\n",
       "</style>\n",
       "<table border=\"1\" class=\"dataframe\">\n",
       "  <thead>\n",
       "    <tr style=\"text-align: right;\">\n",
       "      <th></th>\n",
       "      <th>make</th>\n",
       "      <th>model</th>\n",
       "      <th>year</th>\n",
       "      <th>engine_hp</th>\n",
       "      <th>engine_cylinders</th>\n",
       "      <th>transmission_type</th>\n",
       "      <th>vehicle_style</th>\n",
       "      <th>highway_mpg</th>\n",
       "      <th>city_mpg</th>\n",
       "      <th>msrp</th>\n",
       "    </tr>\n",
       "  </thead>\n",
       "  <tbody>\n",
       "    <tr>\n",
       "      <th>0</th>\n",
       "      <td>bmw</td>\n",
       "      <td>1_series_m</td>\n",
       "      <td>2011</td>\n",
       "      <td>335.0</td>\n",
       "      <td>6.0</td>\n",
       "      <td>manual</td>\n",
       "      <td>coupe</td>\n",
       "      <td>26</td>\n",
       "      <td>19</td>\n",
       "      <td>46135</td>\n",
       "    </tr>\n",
       "    <tr>\n",
       "      <th>1</th>\n",
       "      <td>bmw</td>\n",
       "      <td>1_series</td>\n",
       "      <td>2011</td>\n",
       "      <td>300.0</td>\n",
       "      <td>6.0</td>\n",
       "      <td>manual</td>\n",
       "      <td>convertible</td>\n",
       "      <td>28</td>\n",
       "      <td>19</td>\n",
       "      <td>40650</td>\n",
       "    </tr>\n",
       "    <tr>\n",
       "      <th>2</th>\n",
       "      <td>bmw</td>\n",
       "      <td>1_series</td>\n",
       "      <td>2011</td>\n",
       "      <td>300.0</td>\n",
       "      <td>6.0</td>\n",
       "      <td>manual</td>\n",
       "      <td>coupe</td>\n",
       "      <td>28</td>\n",
       "      <td>20</td>\n",
       "      <td>36350</td>\n",
       "    </tr>\n",
       "    <tr>\n",
       "      <th>3</th>\n",
       "      <td>bmw</td>\n",
       "      <td>1_series</td>\n",
       "      <td>2011</td>\n",
       "      <td>230.0</td>\n",
       "      <td>6.0</td>\n",
       "      <td>manual</td>\n",
       "      <td>coupe</td>\n",
       "      <td>28</td>\n",
       "      <td>18</td>\n",
       "      <td>29450</td>\n",
       "    </tr>\n",
       "    <tr>\n",
       "      <th>4</th>\n",
       "      <td>bmw</td>\n",
       "      <td>1_series</td>\n",
       "      <td>2011</td>\n",
       "      <td>230.0</td>\n",
       "      <td>6.0</td>\n",
       "      <td>manual</td>\n",
       "      <td>convertible</td>\n",
       "      <td>28</td>\n",
       "      <td>18</td>\n",
       "      <td>34500</td>\n",
       "    </tr>\n",
       "  </tbody>\n",
       "</table>\n",
       "</div>"
      ],
      "text/plain": [
       "  make       model  year  engine_hp  engine_cylinders transmission_type  \\\n",
       "0  bmw  1_series_m  2011      335.0               6.0            manual   \n",
       "1  bmw    1_series  2011      300.0               6.0            manual   \n",
       "2  bmw    1_series  2011      300.0               6.0            manual   \n",
       "3  bmw    1_series  2011      230.0               6.0            manual   \n",
       "4  bmw    1_series  2011      230.0               6.0            manual   \n",
       "\n",
       "  vehicle_style  highway_mpg  city_mpg   msrp  \n",
       "0         coupe           26        19  46135  \n",
       "1   convertible           28        19  40650  \n",
       "2         coupe           28        20  36350  \n",
       "3         coupe           28        18  29450  \n",
       "4   convertible           28        18  34500  "
      ]
     },
     "execution_count": 8,
     "metadata": {},
     "output_type": "execute_result"
    }
   ],
   "source": [
    "data.head()"
   ]
  },
  {
   "cell_type": "code",
   "execution_count": 9,
   "id": "269d25a2",
   "metadata": {
    "execution": {
     "iopub.execute_input": "2023-10-08T11:37:57.595539Z",
     "iopub.status.busy": "2023-10-08T11:37:57.594781Z",
     "iopub.status.idle": "2023-10-08T11:37:57.603747Z",
     "shell.execute_reply": "2023-10-08T11:37:57.602785Z"
    },
    "papermill": {
     "duration": 0.017502,
     "end_time": "2023-10-08T11:37:57.605420",
     "exception": false,
     "start_time": "2023-10-08T11:37:57.587918",
     "status": "completed"
    },
    "tags": []
   },
   "outputs": [
    {
     "data": {
      "text/plain": [
       "make                  0\n",
       "model                 0\n",
       "year                  0\n",
       "engine_hp            69\n",
       "engine_cylinders     30\n",
       "transmission_type     0\n",
       "vehicle_style         0\n",
       "highway_mpg           0\n",
       "city_mpg              0\n",
       "msrp                  0\n",
       "dtype: int64"
      ]
     },
     "execution_count": 9,
     "metadata": {},
     "output_type": "execute_result"
    }
   ],
   "source": [
    "data.isnull().sum()"
   ]
  },
  {
   "cell_type": "code",
   "execution_count": 10,
   "id": "c4cb2ce5",
   "metadata": {
    "execution": {
     "iopub.execute_input": "2023-10-08T11:37:57.619229Z",
     "iopub.status.busy": "2023-10-08T11:37:57.618492Z",
     "iopub.status.idle": "2023-10-08T11:37:57.623494Z",
     "shell.execute_reply": "2023-10-08T11:37:57.622712Z"
    },
    "papermill": {
     "duration": 0.013541,
     "end_time": "2023-10-08T11:37:57.625123",
     "exception": false,
     "start_time": "2023-10-08T11:37:57.611582",
     "status": "completed"
    },
    "tags": []
   },
   "outputs": [],
   "source": [
    "data[\"engine_hp\"].fillna(0, inplace=True)      \n",
    "data[\"engine_cylinders\"].fillna(0, inplace=True) "
   ]
  },
  {
   "cell_type": "code",
   "execution_count": 11,
   "id": "8ad7f506",
   "metadata": {
    "execution": {
     "iopub.execute_input": "2023-10-08T11:37:57.639685Z",
     "iopub.status.busy": "2023-10-08T11:37:57.638892Z",
     "iopub.status.idle": "2023-10-08T11:37:57.648380Z",
     "shell.execute_reply": "2023-10-08T11:37:57.647516Z"
    },
    "papermill": {
     "duration": 0.018352,
     "end_time": "2023-10-08T11:37:57.650134",
     "exception": false,
     "start_time": "2023-10-08T11:37:57.631782",
     "status": "completed"
    },
    "tags": []
   },
   "outputs": [
    {
     "data": {
      "text/plain": [
       "make                 0\n",
       "model                0\n",
       "year                 0\n",
       "engine_hp            0\n",
       "engine_cylinders     0\n",
       "transmission_type    0\n",
       "vehicle_style        0\n",
       "highway_mpg          0\n",
       "city_mpg             0\n",
       "msrp                 0\n",
       "dtype: int64"
      ]
     },
     "execution_count": 11,
     "metadata": {},
     "output_type": "execute_result"
    }
   ],
   "source": [
    "data.isnull().sum()"
   ]
  },
  {
   "cell_type": "code",
   "execution_count": 12,
   "id": "b6f36408",
   "metadata": {
    "execution": {
     "iopub.execute_input": "2023-10-08T11:37:57.664409Z",
     "iopub.status.busy": "2023-10-08T11:37:57.663683Z",
     "iopub.status.idle": "2023-10-08T11:37:57.671728Z",
     "shell.execute_reply": "2023-10-08T11:37:57.670788Z"
    },
    "papermill": {
     "duration": 0.016736,
     "end_time": "2023-10-08T11:37:57.673401",
     "exception": false,
     "start_time": "2023-10-08T11:37:57.656665",
     "status": "completed"
    },
    "tags": []
   },
   "outputs": [],
   "source": [
    "data.rename(columns={'msrp': 'price'}, inplace=True)"
   ]
  },
  {
   "cell_type": "code",
   "execution_count": 13,
   "id": "e2d549fa",
   "metadata": {
    "execution": {
     "iopub.execute_input": "2023-10-08T11:37:57.687503Z",
     "iopub.status.busy": "2023-10-08T11:37:57.686613Z",
     "iopub.status.idle": "2023-10-08T11:37:57.697481Z",
     "shell.execute_reply": "2023-10-08T11:37:57.696587Z"
    },
    "papermill": {
     "duration": 0.019441,
     "end_time": "2023-10-08T11:37:57.699140",
     "exception": false,
     "start_time": "2023-10-08T11:37:57.679699",
     "status": "completed"
    },
    "tags": []
   },
   "outputs": [
    {
     "data": {
      "text/html": [
       "<div>\n",
       "<style scoped>\n",
       "    .dataframe tbody tr th:only-of-type {\n",
       "        vertical-align: middle;\n",
       "    }\n",
       "\n",
       "    .dataframe tbody tr th {\n",
       "        vertical-align: top;\n",
       "    }\n",
       "\n",
       "    .dataframe thead th {\n",
       "        text-align: right;\n",
       "    }\n",
       "</style>\n",
       "<table border=\"1\" class=\"dataframe\">\n",
       "  <thead>\n",
       "    <tr style=\"text-align: right;\">\n",
       "      <th></th>\n",
       "      <th>make</th>\n",
       "      <th>model</th>\n",
       "      <th>year</th>\n",
       "      <th>engine_hp</th>\n",
       "      <th>engine_cylinders</th>\n",
       "      <th>transmission_type</th>\n",
       "      <th>vehicle_style</th>\n",
       "      <th>highway_mpg</th>\n",
       "      <th>city_mpg</th>\n",
       "      <th>price</th>\n",
       "    </tr>\n",
       "  </thead>\n",
       "  <tbody>\n",
       "    <tr>\n",
       "      <th>0</th>\n",
       "      <td>bmw</td>\n",
       "      <td>1_series_m</td>\n",
       "      <td>2011</td>\n",
       "      <td>335.0</td>\n",
       "      <td>6.0</td>\n",
       "      <td>manual</td>\n",
       "      <td>coupe</td>\n",
       "      <td>26</td>\n",
       "      <td>19</td>\n",
       "      <td>46135</td>\n",
       "    </tr>\n",
       "    <tr>\n",
       "      <th>1</th>\n",
       "      <td>bmw</td>\n",
       "      <td>1_series</td>\n",
       "      <td>2011</td>\n",
       "      <td>300.0</td>\n",
       "      <td>6.0</td>\n",
       "      <td>manual</td>\n",
       "      <td>convertible</td>\n",
       "      <td>28</td>\n",
       "      <td>19</td>\n",
       "      <td>40650</td>\n",
       "    </tr>\n",
       "    <tr>\n",
       "      <th>2</th>\n",
       "      <td>bmw</td>\n",
       "      <td>1_series</td>\n",
       "      <td>2011</td>\n",
       "      <td>300.0</td>\n",
       "      <td>6.0</td>\n",
       "      <td>manual</td>\n",
       "      <td>coupe</td>\n",
       "      <td>28</td>\n",
       "      <td>20</td>\n",
       "      <td>36350</td>\n",
       "    </tr>\n",
       "    <tr>\n",
       "      <th>3</th>\n",
       "      <td>bmw</td>\n",
       "      <td>1_series</td>\n",
       "      <td>2011</td>\n",
       "      <td>230.0</td>\n",
       "      <td>6.0</td>\n",
       "      <td>manual</td>\n",
       "      <td>coupe</td>\n",
       "      <td>28</td>\n",
       "      <td>18</td>\n",
       "      <td>29450</td>\n",
       "    </tr>\n",
       "    <tr>\n",
       "      <th>4</th>\n",
       "      <td>bmw</td>\n",
       "      <td>1_series</td>\n",
       "      <td>2011</td>\n",
       "      <td>230.0</td>\n",
       "      <td>6.0</td>\n",
       "      <td>manual</td>\n",
       "      <td>convertible</td>\n",
       "      <td>28</td>\n",
       "      <td>18</td>\n",
       "      <td>34500</td>\n",
       "    </tr>\n",
       "  </tbody>\n",
       "</table>\n",
       "</div>"
      ],
      "text/plain": [
       "  make       model  year  engine_hp  engine_cylinders transmission_type  \\\n",
       "0  bmw  1_series_m  2011      335.0               6.0            manual   \n",
       "1  bmw    1_series  2011      300.0               6.0            manual   \n",
       "2  bmw    1_series  2011      300.0               6.0            manual   \n",
       "3  bmw    1_series  2011      230.0               6.0            manual   \n",
       "4  bmw    1_series  2011      230.0               6.0            manual   \n",
       "\n",
       "  vehicle_style  highway_mpg  city_mpg  price  \n",
       "0         coupe           26        19  46135  \n",
       "1   convertible           28        19  40650  \n",
       "2         coupe           28        20  36350  \n",
       "3         coupe           28        18  29450  \n",
       "4   convertible           28        18  34500  "
      ]
     },
     "execution_count": 13,
     "metadata": {},
     "output_type": "execute_result"
    }
   ],
   "source": [
    "data.head()"
   ]
  },
  {
   "cell_type": "code",
   "execution_count": 14,
   "id": "d5608f59",
   "metadata": {
    "execution": {
     "iopub.execute_input": "2023-10-08T11:37:57.713673Z",
     "iopub.status.busy": "2023-10-08T11:37:57.712916Z",
     "iopub.status.idle": "2023-10-08T11:37:57.724595Z",
     "shell.execute_reply": "2023-10-08T11:37:57.723793Z"
    },
    "papermill": {
     "duration": 0.020301,
     "end_time": "2023-10-08T11:37:57.726178",
     "exception": false,
     "start_time": "2023-10-08T11:37:57.705877",
     "status": "completed"
    },
    "tags": []
   },
   "outputs": [],
   "source": [
    "data_class = data.copy()\n",
    "mean = data_class['price'].mean()\n",
    "\n",
    "#data_class['above_average'] = np.where(data_class['price'] > mean, 1, 0)\n",
    "# Replace the 'price' column values with 'above_average' values\n",
    "data['above_average'] = data['price'].map(lambda x: 1 if x > mean else 0)"
   ]
  },
  {
   "cell_type": "code",
   "execution_count": 15,
   "id": "2ae5c068",
   "metadata": {
    "execution": {
     "iopub.execute_input": "2023-10-08T11:37:57.740247Z",
     "iopub.status.busy": "2023-10-08T11:37:57.739504Z",
     "iopub.status.idle": "2023-10-08T11:37:57.751836Z",
     "shell.execute_reply": "2023-10-08T11:37:57.750954Z"
    },
    "papermill": {
     "duration": 0.02106,
     "end_time": "2023-10-08T11:37:57.753475",
     "exception": false,
     "start_time": "2023-10-08T11:37:57.732415",
     "status": "completed"
    },
    "tags": []
   },
   "outputs": [
    {
     "data": {
      "text/html": [
       "<div>\n",
       "<style scoped>\n",
       "    .dataframe tbody tr th:only-of-type {\n",
       "        vertical-align: middle;\n",
       "    }\n",
       "\n",
       "    .dataframe tbody tr th {\n",
       "        vertical-align: top;\n",
       "    }\n",
       "\n",
       "    .dataframe thead th {\n",
       "        text-align: right;\n",
       "    }\n",
       "</style>\n",
       "<table border=\"1\" class=\"dataframe\">\n",
       "  <thead>\n",
       "    <tr style=\"text-align: right;\">\n",
       "      <th></th>\n",
       "      <th>make</th>\n",
       "      <th>model</th>\n",
       "      <th>year</th>\n",
       "      <th>engine_hp</th>\n",
       "      <th>engine_cylinders</th>\n",
       "      <th>transmission_type</th>\n",
       "      <th>vehicle_style</th>\n",
       "      <th>highway_mpg</th>\n",
       "      <th>city_mpg</th>\n",
       "      <th>price</th>\n",
       "      <th>above_average</th>\n",
       "    </tr>\n",
       "  </thead>\n",
       "  <tbody>\n",
       "    <tr>\n",
       "      <th>0</th>\n",
       "      <td>bmw</td>\n",
       "      <td>1_series_m</td>\n",
       "      <td>2011</td>\n",
       "      <td>335.0</td>\n",
       "      <td>6.0</td>\n",
       "      <td>manual</td>\n",
       "      <td>coupe</td>\n",
       "      <td>26</td>\n",
       "      <td>19</td>\n",
       "      <td>46135</td>\n",
       "      <td>1</td>\n",
       "    </tr>\n",
       "    <tr>\n",
       "      <th>1</th>\n",
       "      <td>bmw</td>\n",
       "      <td>1_series</td>\n",
       "      <td>2011</td>\n",
       "      <td>300.0</td>\n",
       "      <td>6.0</td>\n",
       "      <td>manual</td>\n",
       "      <td>convertible</td>\n",
       "      <td>28</td>\n",
       "      <td>19</td>\n",
       "      <td>40650</td>\n",
       "      <td>1</td>\n",
       "    </tr>\n",
       "    <tr>\n",
       "      <th>2</th>\n",
       "      <td>bmw</td>\n",
       "      <td>1_series</td>\n",
       "      <td>2011</td>\n",
       "      <td>300.0</td>\n",
       "      <td>6.0</td>\n",
       "      <td>manual</td>\n",
       "      <td>coupe</td>\n",
       "      <td>28</td>\n",
       "      <td>20</td>\n",
       "      <td>36350</td>\n",
       "      <td>0</td>\n",
       "    </tr>\n",
       "    <tr>\n",
       "      <th>3</th>\n",
       "      <td>bmw</td>\n",
       "      <td>1_series</td>\n",
       "      <td>2011</td>\n",
       "      <td>230.0</td>\n",
       "      <td>6.0</td>\n",
       "      <td>manual</td>\n",
       "      <td>coupe</td>\n",
       "      <td>28</td>\n",
       "      <td>18</td>\n",
       "      <td>29450</td>\n",
       "      <td>0</td>\n",
       "    </tr>\n",
       "    <tr>\n",
       "      <th>4</th>\n",
       "      <td>bmw</td>\n",
       "      <td>1_series</td>\n",
       "      <td>2011</td>\n",
       "      <td>230.0</td>\n",
       "      <td>6.0</td>\n",
       "      <td>manual</td>\n",
       "      <td>convertible</td>\n",
       "      <td>28</td>\n",
       "      <td>18</td>\n",
       "      <td>34500</td>\n",
       "      <td>0</td>\n",
       "    </tr>\n",
       "    <tr>\n",
       "      <th>5</th>\n",
       "      <td>bmw</td>\n",
       "      <td>1_series</td>\n",
       "      <td>2012</td>\n",
       "      <td>230.0</td>\n",
       "      <td>6.0</td>\n",
       "      <td>manual</td>\n",
       "      <td>coupe</td>\n",
       "      <td>28</td>\n",
       "      <td>18</td>\n",
       "      <td>31200</td>\n",
       "      <td>0</td>\n",
       "    </tr>\n",
       "    <tr>\n",
       "      <th>6</th>\n",
       "      <td>bmw</td>\n",
       "      <td>1_series</td>\n",
       "      <td>2012</td>\n",
       "      <td>300.0</td>\n",
       "      <td>6.0</td>\n",
       "      <td>manual</td>\n",
       "      <td>convertible</td>\n",
       "      <td>26</td>\n",
       "      <td>17</td>\n",
       "      <td>44100</td>\n",
       "      <td>1</td>\n",
       "    </tr>\n",
       "    <tr>\n",
       "      <th>7</th>\n",
       "      <td>bmw</td>\n",
       "      <td>1_series</td>\n",
       "      <td>2012</td>\n",
       "      <td>300.0</td>\n",
       "      <td>6.0</td>\n",
       "      <td>manual</td>\n",
       "      <td>coupe</td>\n",
       "      <td>28</td>\n",
       "      <td>20</td>\n",
       "      <td>39300</td>\n",
       "      <td>0</td>\n",
       "    </tr>\n",
       "    <tr>\n",
       "      <th>8</th>\n",
       "      <td>bmw</td>\n",
       "      <td>1_series</td>\n",
       "      <td>2012</td>\n",
       "      <td>230.0</td>\n",
       "      <td>6.0</td>\n",
       "      <td>manual</td>\n",
       "      <td>convertible</td>\n",
       "      <td>28</td>\n",
       "      <td>18</td>\n",
       "      <td>36900</td>\n",
       "      <td>0</td>\n",
       "    </tr>\n",
       "    <tr>\n",
       "      <th>9</th>\n",
       "      <td>bmw</td>\n",
       "      <td>1_series</td>\n",
       "      <td>2013</td>\n",
       "      <td>230.0</td>\n",
       "      <td>6.0</td>\n",
       "      <td>manual</td>\n",
       "      <td>convertible</td>\n",
       "      <td>27</td>\n",
       "      <td>18</td>\n",
       "      <td>37200</td>\n",
       "      <td>0</td>\n",
       "    </tr>\n",
       "  </tbody>\n",
       "</table>\n",
       "</div>"
      ],
      "text/plain": [
       "  make       model  year  engine_hp  engine_cylinders transmission_type  \\\n",
       "0  bmw  1_series_m  2011      335.0               6.0            manual   \n",
       "1  bmw    1_series  2011      300.0               6.0            manual   \n",
       "2  bmw    1_series  2011      300.0               6.0            manual   \n",
       "3  bmw    1_series  2011      230.0               6.0            manual   \n",
       "4  bmw    1_series  2011      230.0               6.0            manual   \n",
       "5  bmw    1_series  2012      230.0               6.0            manual   \n",
       "6  bmw    1_series  2012      300.0               6.0            manual   \n",
       "7  bmw    1_series  2012      300.0               6.0            manual   \n",
       "8  bmw    1_series  2012      230.0               6.0            manual   \n",
       "9  bmw    1_series  2013      230.0               6.0            manual   \n",
       "\n",
       "  vehicle_style  highway_mpg  city_mpg  price  above_average  \n",
       "0         coupe           26        19  46135              1  \n",
       "1   convertible           28        19  40650              1  \n",
       "2         coupe           28        20  36350              0  \n",
       "3         coupe           28        18  29450              0  \n",
       "4   convertible           28        18  34500              0  \n",
       "5         coupe           28        18  31200              0  \n",
       "6   convertible           26        17  44100              1  \n",
       "7         coupe           28        20  39300              0  \n",
       "8   convertible           28        18  36900              0  \n",
       "9   convertible           27        18  37200              0  "
      ]
     },
     "execution_count": 15,
     "metadata": {},
     "output_type": "execute_result"
    }
   ],
   "source": [
    "data.head(10)"
   ]
  },
  {
   "cell_type": "code",
   "execution_count": 16,
   "id": "474e90d4",
   "metadata": {
    "execution": {
     "iopub.execute_input": "2023-10-08T11:37:57.769051Z",
     "iopub.status.busy": "2023-10-08T11:37:57.768202Z",
     "iopub.status.idle": "2023-10-08T11:37:57.781251Z",
     "shell.execute_reply": "2023-10-08T11:37:57.780483Z"
    },
    "papermill": {
     "duration": 0.022945,
     "end_time": "2023-10-08T11:37:57.782977",
     "exception": false,
     "start_time": "2023-10-08T11:37:57.760032",
     "status": "completed"
    },
    "tags": []
   },
   "outputs": [],
   "source": [
    "df_full_train, df_test = train_test_split(data, test_size=0.2, random_state=1)\n",
    "df_train, df_val = train_test_split(df_full_train, test_size=0.25, random_state=1)"
   ]
  },
  {
   "cell_type": "code",
   "execution_count": 17,
   "id": "837b29fc",
   "metadata": {
    "execution": {
     "iopub.execute_input": "2023-10-08T11:37:57.797644Z",
     "iopub.status.busy": "2023-10-08T11:37:57.796991Z",
     "iopub.status.idle": "2023-10-08T11:37:57.804778Z",
     "shell.execute_reply": "2023-10-08T11:37:57.803976Z"
    },
    "papermill": {
     "duration": 0.016829,
     "end_time": "2023-10-08T11:37:57.806513",
     "exception": false,
     "start_time": "2023-10-08T11:37:57.789684",
     "status": "completed"
    },
    "tags": []
   },
   "outputs": [],
   "source": [
    "df_train = df_train.reset_index(drop=True)\n",
    "df_val = df_val.reset_index(drop=True)\n",
    "df_test = df_test.reset_index(drop=True)"
   ]
  },
  {
   "cell_type": "code",
   "execution_count": 18,
   "id": "f563e897",
   "metadata": {
    "execution": {
     "iopub.execute_input": "2023-10-08T11:37:57.821508Z",
     "iopub.status.busy": "2023-10-08T11:37:57.820744Z",
     "iopub.status.idle": "2023-10-08T11:37:57.825113Z",
     "shell.execute_reply": "2023-10-08T11:37:57.824351Z"
    },
    "papermill": {
     "duration": 0.013747,
     "end_time": "2023-10-08T11:37:57.826755",
     "exception": false,
     "start_time": "2023-10-08T11:37:57.813008",
     "status": "completed"
    },
    "tags": []
   },
   "outputs": [],
   "source": [
    "y_train = df_train.above_average\n",
    "y_val = df_val.above_average\n",
    "y_test = df_test.above_average"
   ]
  },
  {
   "cell_type": "code",
   "execution_count": 19,
   "id": "a7be45d4",
   "metadata": {
    "execution": {
     "iopub.execute_input": "2023-10-08T11:37:57.841295Z",
     "iopub.status.busy": "2023-10-08T11:37:57.840823Z",
     "iopub.status.idle": "2023-10-08T11:37:57.845695Z",
     "shell.execute_reply": "2023-10-08T11:37:57.844773Z"
    },
    "papermill": {
     "duration": 0.014004,
     "end_time": "2023-10-08T11:37:57.847289",
     "exception": false,
     "start_time": "2023-10-08T11:37:57.833285",
     "status": "completed"
    },
    "tags": []
   },
   "outputs": [],
   "source": [
    "del df_train['above_average']\n",
    "del df_val['above_average']\n",
    "del df_test['above_average']"
   ]
  },
  {
   "cell_type": "code",
   "execution_count": 20,
   "id": "6bdf676c",
   "metadata": {
    "execution": {
     "iopub.execute_input": "2023-10-08T11:37:57.861962Z",
     "iopub.status.busy": "2023-10-08T11:37:57.861209Z",
     "iopub.status.idle": "2023-10-08T11:37:57.867699Z",
     "shell.execute_reply": "2023-10-08T11:37:57.866819Z"
    },
    "papermill": {
     "duration": 0.015389,
     "end_time": "2023-10-08T11:37:57.869325",
     "exception": false,
     "start_time": "2023-10-08T11:37:57.853936",
     "status": "completed"
    },
    "tags": []
   },
   "outputs": [
    {
     "data": {
      "text/plain": [
       "make                  object\n",
       "model                 object\n",
       "year                   int64\n",
       "engine_hp            float64\n",
       "engine_cylinders     float64\n",
       "transmission_type     object\n",
       "vehicle_style         object\n",
       "highway_mpg            int64\n",
       "city_mpg               int64\n",
       "price                  int64\n",
       "above_average          int64\n",
       "dtype: object"
      ]
     },
     "execution_count": 20,
     "metadata": {},
     "output_type": "execute_result"
    }
   ],
   "source": [
    "data.dtypes"
   ]
  },
  {
   "cell_type": "code",
   "execution_count": 21,
   "id": "0b8bfa35",
   "metadata": {
    "execution": {
     "iopub.execute_input": "2023-10-08T11:37:57.883598Z",
     "iopub.status.busy": "2023-10-08T11:37:57.883233Z",
     "iopub.status.idle": "2023-10-08T11:37:57.887179Z",
     "shell.execute_reply": "2023-10-08T11:37:57.886360Z"
    },
    "papermill": {
     "duration": 0.01282,
     "end_time": "2023-10-08T11:37:57.888785",
     "exception": false,
     "start_time": "2023-10-08T11:37:57.875965",
     "status": "completed"
    },
    "tags": []
   },
   "outputs": [],
   "source": [
    "numerical = [\"year\",\"engine_hp\",\"engine_cylinders\",\"highway_mpg\",\"city_mpg\"]\n",
    "categorical = [\"make\",\"model\",\"transmission_type\",\"vehicle_style\"]"
   ]
  },
  {
   "cell_type": "markdown",
   "id": "cb104192",
   "metadata": {
    "papermill": {
     "duration": 0.006453,
     "end_time": "2023-10-08T11:37:57.901726",
     "exception": false,
     "start_time": "2023-10-08T11:37:57.895273",
     "status": "completed"
    },
    "tags": []
   },
   "source": [
    "Question1# Which numerical variable (among the following 4) has the highest AUC?"
   ]
  },
  {
   "cell_type": "code",
   "execution_count": 22,
   "id": "d37b4bd3",
   "metadata": {
    "execution": {
     "iopub.execute_input": "2023-10-08T11:37:57.915950Z",
     "iopub.status.busy": "2023-10-08T11:37:57.915721Z",
     "iopub.status.idle": "2023-10-08T11:37:57.943804Z",
     "shell.execute_reply": "2023-10-08T11:37:57.942814Z"
    },
    "papermill": {
     "duration": 0.037051,
     "end_time": "2023-10-08T11:37:57.945457",
     "exception": false,
     "start_time": "2023-10-08T11:37:57.908406",
     "status": "completed"
    },
    "tags": []
   },
   "outputs": [
    {
     "name": "stdout",
     "output_type": "stream",
     "text": [
      "     year, 0.688\n",
      "engine_hp, 0.917\n",
      "engine_cylinders, 0.766\n",
      "highway_mpg, 0.633\n",
      " city_mpg, 0.673\n"
     ]
    }
   ],
   "source": [
    "\n",
    "#@ CALCULATING ROC AUC SCORE:\n",
    "for c in numerical:\n",
    "    auc = roc_auc_score(y_train, df_train[c])\n",
    "    if auc < 0.5:\n",
    "        auc = roc_auc_score(y_train, -df_train[c])\n",
    "    print('%9s, %.3f' % (c, auc))\n",
    "     "
   ]
  },
  {
   "cell_type": "code",
   "execution_count": 23,
   "id": "bb3ff468",
   "metadata": {
    "execution": {
     "iopub.execute_input": "2023-10-08T11:37:58.000285Z",
     "iopub.status.busy": "2023-10-08T11:37:57.999683Z",
     "iopub.status.idle": "2023-10-08T11:37:58.297189Z",
     "shell.execute_reply": "2023-10-08T11:37:58.295915Z"
    },
    "papermill": {
     "duration": 0.309422,
     "end_time": "2023-10-08T11:37:58.301143",
     "exception": false,
     "start_time": "2023-10-08T11:37:57.991721",
     "status": "completed"
    },
    "tags": []
   },
   "outputs": [],
   "source": [
    "columns = categorical + numerical\n",
    "\n",
    "train_dicts = df_train[columns].to_dict(orient='records')\n",
    "dv = DictVectorizer(sparse=False)\n",
    "X_train = dv.fit_transform(train_dicts)\n",
    "\n",
    "model = LogisticRegression(solver='liblinear', C=1.0, max_iter=1000)\n",
    "model.fit(X_train, y_train)\n",
    "\n",
    "val_dicts = df_val[columns].to_dict(orient='records')\n",
    "X_val = dv.transform(val_dicts)\n",
    "\n",
    "y_pred = model.predict_proba(X_val)[:, 1]"
   ]
  },
  {
   "cell_type": "markdown",
   "id": "60b0f564",
   "metadata": {
    "papermill": {
     "duration": 0.019945,
     "end_time": "2023-10-08T11:37:58.342641",
     "exception": false,
     "start_time": "2023-10-08T11:37:58.322696",
     "status": "completed"
    },
    "tags": []
   },
   "source": [
    "Question 2: What's the AUC of this model on the validation dataset? (round to 3 digits)"
   ]
  },
  {
   "cell_type": "code",
   "execution_count": 24,
   "id": "bd2ee689",
   "metadata": {
    "execution": {
     "iopub.execute_input": "2023-10-08T11:37:58.384680Z",
     "iopub.status.busy": "2023-10-08T11:37:58.384116Z",
     "iopub.status.idle": "2023-10-08T11:37:58.401132Z",
     "shell.execute_reply": "2023-10-08T11:37:58.400084Z"
    },
    "papermill": {
     "duration": 0.04166,
     "end_time": "2023-10-08T11:37:58.404445",
     "exception": false,
     "start_time": "2023-10-08T11:37:58.362785",
     "status": "completed"
    },
    "tags": []
   },
   "outputs": [
    {
     "data": {
      "text/plain": [
       "0.9803867466832218"
      ]
     },
     "execution_count": 24,
     "metadata": {},
     "output_type": "execute_result"
    }
   ],
   "source": [
    "#@ INSPECTING ROC AUC SCORE:\n",
    "roc_auc_score(y_val, y_pred)"
   ]
  },
  {
   "cell_type": "code",
   "execution_count": 25,
   "id": "c70c8f02",
   "metadata": {
    "execution": {
     "iopub.execute_input": "2023-10-08T11:37:58.434747Z",
     "iopub.status.busy": "2023-10-08T11:37:58.434502Z",
     "iopub.status.idle": "2023-10-08T11:37:58.513882Z",
     "shell.execute_reply": "2023-10-08T11:37:58.513354Z"
    },
    "papermill": {
     "duration": 0.090858,
     "end_time": "2023-10-08T11:37:58.515545",
     "exception": false,
     "start_time": "2023-10-08T11:37:58.424687",
     "status": "completed"
    },
    "tags": []
   },
   "outputs": [
    {
     "data": {
      "text/html": [
       "<div>\n",
       "<style scoped>\n",
       "    .dataframe tbody tr th:only-of-type {\n",
       "        vertical-align: middle;\n",
       "    }\n",
       "\n",
       "    .dataframe tbody tr th {\n",
       "        vertical-align: top;\n",
       "    }\n",
       "\n",
       "    .dataframe thead th {\n",
       "        text-align: right;\n",
       "    }\n",
       "</style>\n",
       "<table border=\"1\" class=\"dataframe\">\n",
       "  <thead>\n",
       "    <tr style=\"text-align: right;\">\n",
       "      <th></th>\n",
       "      <th>threshold</th>\n",
       "      <th>tp</th>\n",
       "      <th>fp</th>\n",
       "      <th>fn</th>\n",
       "      <th>tn</th>\n",
       "    </tr>\n",
       "  </thead>\n",
       "  <tbody>\n",
       "    <tr>\n",
       "      <th>0</th>\n",
       "      <td>0.0</td>\n",
       "      <td>654</td>\n",
       "      <td>1729</td>\n",
       "      <td>0</td>\n",
       "      <td>0</td>\n",
       "    </tr>\n",
       "    <tr>\n",
       "      <th>10</th>\n",
       "      <td>0.1</td>\n",
       "      <td>644</td>\n",
       "      <td>327</td>\n",
       "      <td>10</td>\n",
       "      <td>1402</td>\n",
       "    </tr>\n",
       "    <tr>\n",
       "      <th>20</th>\n",
       "      <td>0.2</td>\n",
       "      <td>625</td>\n",
       "      <td>203</td>\n",
       "      <td>29</td>\n",
       "      <td>1526</td>\n",
       "    </tr>\n",
       "    <tr>\n",
       "      <th>30</th>\n",
       "      <td>0.3</td>\n",
       "      <td>609</td>\n",
       "      <td>147</td>\n",
       "      <td>45</td>\n",
       "      <td>1582</td>\n",
       "    </tr>\n",
       "    <tr>\n",
       "      <th>40</th>\n",
       "      <td>0.4</td>\n",
       "      <td>593</td>\n",
       "      <td>90</td>\n",
       "      <td>61</td>\n",
       "      <td>1639</td>\n",
       "    </tr>\n",
       "    <tr>\n",
       "      <th>50</th>\n",
       "      <td>0.5</td>\n",
       "      <td>579</td>\n",
       "      <td>69</td>\n",
       "      <td>75</td>\n",
       "      <td>1660</td>\n",
       "    </tr>\n",
       "    <tr>\n",
       "      <th>60</th>\n",
       "      <td>0.6</td>\n",
       "      <td>554</td>\n",
       "      <td>46</td>\n",
       "      <td>100</td>\n",
       "      <td>1683</td>\n",
       "    </tr>\n",
       "    <tr>\n",
       "      <th>70</th>\n",
       "      <td>0.7</td>\n",
       "      <td>507</td>\n",
       "      <td>26</td>\n",
       "      <td>147</td>\n",
       "      <td>1703</td>\n",
       "    </tr>\n",
       "    <tr>\n",
       "      <th>80</th>\n",
       "      <td>0.8</td>\n",
       "      <td>457</td>\n",
       "      <td>14</td>\n",
       "      <td>197</td>\n",
       "      <td>1715</td>\n",
       "    </tr>\n",
       "    <tr>\n",
       "      <th>90</th>\n",
       "      <td>0.9</td>\n",
       "      <td>366</td>\n",
       "      <td>3</td>\n",
       "      <td>288</td>\n",
       "      <td>1726</td>\n",
       "    </tr>\n",
       "    <tr>\n",
       "      <th>100</th>\n",
       "      <td>1.0</td>\n",
       "      <td>0</td>\n",
       "      <td>0</td>\n",
       "      <td>654</td>\n",
       "      <td>1729</td>\n",
       "    </tr>\n",
       "  </tbody>\n",
       "</table>\n",
       "</div>"
      ],
      "text/plain": [
       "     threshold   tp    fp   fn    tn\n",
       "0          0.0  654  1729    0     0\n",
       "10         0.1  644   327   10  1402\n",
       "20         0.2  625   203   29  1526\n",
       "30         0.3  609   147   45  1582\n",
       "40         0.4  593    90   61  1639\n",
       "50         0.5  579    69   75  1660\n",
       "60         0.6  554    46  100  1683\n",
       "70         0.7  507    26  147  1703\n",
       "80         0.8  457    14  197  1715\n",
       "90         0.9  366     3  288  1726\n",
       "100        1.0    0     0  654  1729"
      ]
     },
     "execution_count": 25,
     "metadata": {},
     "output_type": "execute_result"
    }
   ],
   "source": [
    "def confusion_matrix_dataframe(y_val, y_pred):\n",
    "    scores = []\n",
    "\n",
    "    thresholds = np.linspace(0, 1, 101)\n",
    "\n",
    "    for t in thresholds:\n",
    "        actual_positive = (y_val == 1)\n",
    "        actual_negative = (y_val == 0)\n",
    "\n",
    "        predict_positive = (y_pred >= t)\n",
    "        predict_negative = (y_pred < t)\n",
    "\n",
    "        tp = (predict_positive & actual_positive).sum()\n",
    "        tn = (predict_negative & actual_negative).sum()\n",
    "\n",
    "        fp = (predict_positive & actual_negative).sum()\n",
    "        fn = (predict_negative & actual_positive).sum()\n",
    "\n",
    "        scores.append((t, tp, fp, fn, tn))\n",
    "\n",
    "    columns = ['threshold', 'tp', 'fp', 'fn', 'tn']\n",
    "    df_scores = pd.DataFrame(scores, columns=columns)\n",
    "    \n",
    "    return df_scores\n",
    "\n",
    "\n",
    "\n",
    "df_scores = confusion_matrix_dataframe(y_val, y_pred)\n",
    "df_scores[::10]"
   ]
  },
  {
   "cell_type": "code",
   "execution_count": 26,
   "id": "cf1a5dc8",
   "metadata": {
    "execution": {
     "iopub.execute_input": "2023-10-08T11:37:58.530858Z",
     "iopub.status.busy": "2023-10-08T11:37:58.530220Z",
     "iopub.status.idle": "2023-10-08T11:37:58.535822Z",
     "shell.execute_reply": "2023-10-08T11:37:58.534804Z"
    },
    "papermill": {
     "duration": 0.014936,
     "end_time": "2023-10-08T11:37:58.537476",
     "exception": false,
     "start_time": "2023-10-08T11:37:58.522540",
     "status": "completed"
    },
    "tags": []
   },
   "outputs": [],
   "source": [
    "df_scores['p'] = df_scores.tp / (df_scores.tp + df_scores.fp)\n",
    "df_scores['r'] = df_scores.tp / (df_scores.tp + df_scores.fn)"
   ]
  },
  {
   "cell_type": "markdown",
   "id": "0441c910",
   "metadata": {
    "papermill": {
     "duration": 0.007059,
     "end_time": "2023-10-08T11:37:58.551689",
     "exception": false,
     "start_time": "2023-10-08T11:37:58.544630",
     "status": "completed"
    },
    "tags": []
   },
   "source": [
    "Question3: At which threshold precision and recall curves intersect?"
   ]
  },
  {
   "cell_type": "code",
   "execution_count": 27,
   "id": "bc74df26",
   "metadata": {
    "execution": {
     "iopub.execute_input": "2023-10-08T11:37:58.566670Z",
     "iopub.status.busy": "2023-10-08T11:37:58.566291Z",
     "iopub.status.idle": "2023-10-08T11:37:58.837272Z",
     "shell.execute_reply": "2023-10-08T11:37:58.836217Z"
    },
    "papermill": {
     "duration": 0.281523,
     "end_time": "2023-10-08T11:37:58.840172",
     "exception": false,
     "start_time": "2023-10-08T11:37:58.558649",
     "status": "completed"
    },
    "tags": []
   },
   "outputs": [
    {
     "data": {
      "image/png": "[encoded data removed]",
      "text/plain": [
       "<Figure size 640x480 with 1 Axes>"
      ]
     },
     "metadata": {},
     "output_type": "display_data"
    }
   ],
   "source": [
    "#@ INSPECTING THE CURVES:\n",
    "plt.plot(df_scores.threshold, df_scores.p, label='precision')\n",
    "plt.plot(df_scores.threshold, df_scores.r, label='recall')\n",
    "\n",
    "plt.legend()\n",
    "plt.show()"
   ]
  },
  {
   "cell_type": "code",
   "execution_count": 28,
   "id": "2f819552",
   "metadata": {
    "execution": {
     "iopub.execute_input": "2023-10-08T11:37:58.867417Z",
     "iopub.status.busy": "2023-10-08T11:37:58.867008Z",
     "iopub.status.idle": "2023-10-08T11:37:58.874420Z",
     "shell.execute_reply": "2023-10-08T11:37:58.873282Z"
    },
    "papermill": {
     "duration": 0.023501,
     "end_time": "2023-10-08T11:37:58.881653",
     "exception": false,
     "start_time": "2023-10-08T11:37:58.858152",
     "status": "completed"
    },
    "tags": []
   },
   "outputs": [],
   "source": [
    "df_scores['f1'] = 2 * df_scores.p * df_scores.r / (df_scores.p + df_scores.r)"
   ]
  },
  {
   "cell_type": "markdown",
   "id": "b7cc0a70",
   "metadata": {
    "papermill": {
     "duration": 0.019824,
     "end_time": "2023-10-08T11:37:58.919617",
     "exception": false,
     "start_time": "2023-10-08T11:37:58.899793",
     "status": "completed"
    },
    "tags": []
   },
   "source": [
    "Question 4 : At which threshold F1 is maximal?"
   ]
  },
  {
   "cell_type": "code",
   "execution_count": 29,
   "id": "0b44374a",
   "metadata": {
    "execution": {
     "iopub.execute_input": "2023-10-08T11:37:58.964611Z",
     "iopub.status.busy": "2023-10-08T11:37:58.964199Z",
     "iopub.status.idle": "2023-10-08T11:37:59.188232Z",
     "shell.execute_reply": "2023-10-08T11:37:59.187382Z"
    },
    "papermill": {
     "duration": 0.247633,
     "end_time": "2023-10-08T11:37:59.189987",
     "exception": false,
     "start_time": "2023-10-08T11:37:58.942354",
     "status": "completed"
    },
    "tags": []
   },
   "outputs": [
    {
     "data": {
      "image/png": "[encoded data removed]",
      "text/plain": [
       "<Figure size 640x480 with 1 Axes>"
      ]
     },
     "metadata": {},
     "output_type": "display_data"
    }
   ],
   "source": [
    "#@ INSPECTING F1 SCORE:\n",
    "plt.plot(df_scores.threshold, df_scores.f1)\n",
    "plt.xticks(np.linspace(0, 1, 11))\n",
    "plt.show()"
   ]
  },
  {
   "cell_type": "code",
   "execution_count": 30,
   "id": "b7e74b75",
   "metadata": {
    "execution": {
     "iopub.execute_input": "2023-10-08T11:37:59.207572Z",
     "iopub.status.busy": "2023-10-08T11:37:59.206930Z",
     "iopub.status.idle": "2023-10-08T11:37:59.212418Z",
     "shell.execute_reply": "2023-10-08T11:37:59.211505Z"
    },
    "papermill": {
     "duration": 0.015919,
     "end_time": "2023-10-08T11:37:59.214088",
     "exception": false,
     "start_time": "2023-10-08T11:37:59.198169",
     "status": "completed"
    },
    "tags": []
   },
   "outputs": [],
   "source": [
    "def train(df_train, y_train, C=1.0):\n",
    "    dicts = df_train[columns].to_dict(orient='records')\n",
    "\n",
    "    dv = DictVectorizer(sparse=False)\n",
    "    X_train = dv.fit_transform(dicts)\n",
    "\n",
    "    model = LogisticRegression(solver='liblinear', C=C)\n",
    "    model.fit(X_train, y_train)\n",
    "\n",
    "    return dv, model\n",
    "\n",
    "def predict(df, dv, model):\n",
    "    dicts = df[columns].to_dict(orient='records')\n",
    "\n",
    "    X = dv.transform(dicts)\n",
    "    y_pred = model.predict_proba(X)[:, 1]\n",
    "\n",
    "    return y_pred\n",
    "     "
   ]
  },
  {
   "cell_type": "markdown",
   "id": "882a13b2",
   "metadata": {
    "papermill": {
     "duration": 0.007557,
     "end_time": "2023-10-08T11:37:59.229188",
     "exception": false,
     "start_time": "2023-10-08T11:37:59.221631",
     "status": "completed"
    },
    "tags": []
   },
   "source": [
    "Question 5: How large is standard devidation of the scores across different folds?"
   ]
  },
  {
   "cell_type": "code",
   "execution_count": 31,
   "id": "1e46f331",
   "metadata": {
    "execution": {
     "iopub.execute_input": "2023-10-08T11:37:59.246416Z",
     "iopub.status.busy": "2023-10-08T11:37:59.245703Z",
     "iopub.status.idle": "2023-10-08T11:38:01.084513Z",
     "shell.execute_reply": "2023-10-08T11:38:01.083567Z"
    },
    "papermill": {
     "duration": 1.850583,
     "end_time": "2023-10-08T11:38:01.087357",
     "exception": false,
     "start_time": "2023-10-08T11:37:59.236774",
     "status": "completed"
    },
    "tags": []
   },
   "outputs": [
    {
     "name": "stdout",
     "output_type": "stream",
     "text": [
      "0.980 +- 0.003\n"
     ]
    }
   ],
   "source": [
    "scores = []\n",
    "\n",
    "kfold = KFold(n_splits=5, shuffle=True, random_state=1)\n",
    "\n",
    "for train_idx, val_idx in kfold.split(df_full_train):\n",
    "    df_train = df_full_train.iloc[train_idx]\n",
    "    df_val = df_full_train.iloc[val_idx]\n",
    "\n",
    "    y_train = df_train.above_average\n",
    "    y_val = df_val.above_average\n",
    "\n",
    "    dv, model = train(df_train, y_train, C=1.0)\n",
    "    y_pred = predict(df_val, dv, model)\n",
    "\n",
    "    auc = roc_auc_score(y_val, y_pred)\n",
    "    scores.append(auc)\n",
    "\n",
    "print('%.3f +- %.3f' % (np.mean(scores), np.std(scores)))"
   ]
  },
  {
   "cell_type": "code",
   "execution_count": 32,
   "id": "1651936a",
   "metadata": {
    "execution": {
     "iopub.execute_input": "2023-10-08T11:38:01.137568Z",
     "iopub.status.busy": "2023-10-08T11:38:01.137066Z",
     "iopub.status.idle": "2023-10-08T11:38:08.952530Z",
     "shell.execute_reply": "2023-10-08T11:38:08.951361Z"
    },
    "papermill": {
     "duration": 7.844195,
     "end_time": "2023-10-08T11:38:08.956022",
     "exception": false,
     "start_time": "2023-10-08T11:38:01.111827",
     "status": "completed"
    },
    "tags": []
   },
   "outputs": [
    {
     "name": "stdout",
     "output_type": "stream",
     "text": [
      "C=0.01, 0.952 +- 0.002\n",
      "C= 0.1, 0.972 +- 0.001\n",
      "C= 0.5, 0.979 +- 0.002\n",
      "C=  10, 0.983 +- 0.003\n"
     ]
    }
   ],
   "source": [
    "kfold = KFold(n_splits=5, shuffle=True, random_state=1)\n",
    "\n",
    "for C in [0.01, 0.1, 0.5, 10]:\n",
    "    scores = []\n",
    "\n",
    "    for train_idx, val_idx in kfold.split(df_full_train):\n",
    "        df_train = df_full_train.iloc[train_idx]\n",
    "        df_val = df_full_train.iloc[val_idx]\n",
    "\n",
    "        y_train = df_train.above_average\n",
    "        y_val = df_val.above_average\n",
    "\n",
    "        dv, model = train(df_train, y_train, C=C)\n",
    "        y_pred = predict(df_val, dv, model)\n",
    "\n",
    "        auc = roc_auc_score(y_val, y_pred)\n",
    "        scores.append(auc)\n",
    "\n",
    "    print('C=%4s, %.3f +- %.3f' % (C, np.mean(scores), np.std(scores)))"
   ]
  }
 ],
 "metadata": {
  "kernelspec": {
   "display_name": "Python 3",
   "language": "python",
   "name": "python3"
  },
  "language_info": {
   "codemirror_mode": {
    "name": "ipython",
    "version": 3
   },
   "file_extension": ".py",
   "mimetype": "text/x-python",
   "name": "python",
   "nbconvert_exporter": "python",
   "pygments_lexer": "ipython3",
   "version": "3.10.12"
  },
  "papermill": {
   "default_parameters": {},
   "duration": 18.232673,
   "end_time": "2023-10-08T11:38:09.504267",
   "environment_variables": {},
   "exception": null,
   "input_path": "__notebook__.ipynb",
   "output_path": "__notebook__.ipynb",
   "parameters": {},
   "start_time": "2023-10-08T11:37:51.271594",
   "version": "2.4.0"
  }
 },
 "nbformat": 4,
 "nbformat_minor": 5
}
